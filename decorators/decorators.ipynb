{
  "nbformat": 4,
  "nbformat_minor": 0,
  "metadata": {
    "colab": {
      "provenance": []
    },
    "kernelspec": {
      "name": "python3",
      "display_name": "Python 3"
    },
    "language_info": {
      "name": "python"
    }
  },
  "cells": [
    {
      "cell_type": "markdown",
      "source": [
        "# Домашнее задание: декораторы"
      ],
      "metadata": {
        "id": "QY4qPJPpgyIS"
      }
    },
    {
      "cell_type": "markdown",
      "source": [
        "## Импорт библиотек, установка констант"
      ],
      "metadata": {
        "id": "Chacc6YchldZ"
      }
    },
    {
      "cell_type": "code",
      "source": [
        "import requests\n",
        "import time\n",
        "import re\n",
        "import functools\n",
        "\n",
        "from random import randint"
      ],
      "metadata": {
        "id": "w8iKrWvwhrFd"
      },
      "execution_count": 76,
      "outputs": []
    },
    {
      "cell_type": "code",
      "source": [
        "BOOK_PATH = 'https://www.gutenberg.org/files/2638/2638-0.txt'"
      ],
      "metadata": {
        "id": "-LRkS0fSi8Np"
      },
      "execution_count": 77,
      "outputs": []
    },
    {
      "cell_type": "markdown",
      "source": [
        "## Задание 1"
      ],
      "metadata": {
        "id": "kARfL8ifg4MH"
      }
    },
    {
      "cell_type": "code",
      "execution_count": 80,
      "metadata": {
        "id": "hNHNWPhngrUl"
      },
      "outputs": [],
      "source": [
        "def benchmark(func):\n",
        "    @wraps(func)\n",
        "    def wrapper(*args, **kwargs):\n",
        "        start = time.perf_counter()\n",
        "        result = func(*args, **kwargs)\n",
        "        end = time.perf_counter()\n",
        "        print(f'Время выполнения функции {func.__name__}: {end - start:.12f}')\n",
        "        return result\n",
        "    return wrapper\n",
        "\n"
      ]
    },
    {
      "cell_type": "markdown",
      "source": [
        "## Задание 2"
      ],
      "metadata": {
        "id": "tGlbUKjihL5n"
      }
    },
    {
      "cell_type": "code",
      "source": [
        "def logging(func):\n",
        "    \"\"\"\n",
        "    Декоратор, который выводит параметры с которыми была вызвана функция\n",
        "    \"\"\"\n",
        "    @wraps(func)\n",
        "    def wrapper(*args, **kwargs):\n",
        "        result = func(*args, **kwargs)\n",
        "        print('Функция вызвана с параметрами:')\n",
        "        print(args, kwargs)\n",
        "        return result\n",
        "    return wrapper\n",
        "\n",
        "\n",
        "\n"
      ],
      "metadata": {
        "id": "wugOZDLqhNe-"
      },
      "execution_count": 82,
      "outputs": []
    },
    {
      "cell_type": "markdown",
      "source": [
        "## Задание 3"
      ],
      "metadata": {
        "id": "Sq1tv5fshTfv"
      }
    },
    {
      "cell_type": "code",
      "source": [
        "def counter(func):\n",
        "    \"\"\"\n",
        "    Декоратор, считающий и выводящий количество вызовов декорируемой функции\n",
        "    \"\"\"\n",
        "\n",
        "    @wraps(func)\n",
        "    def wrapper(*args, **kwargs):\n",
        "        wrapper.count += 1\n",
        "        result = func(*args, **kwargs)\n",
        "        print(f'Функция была вызвана: {wrapper.count} раз')\n",
        "        return result\n",
        "    wrapper.count = 0\n",
        "    return wrapper\n"
      ],
      "metadata": {
        "id": "9nyvuxXkhVeb"
      },
      "execution_count": 84,
      "outputs": []
    },
    {
      "cell_type": "markdown",
      "source": [
        "## Задание 4"
      ],
      "metadata": {
        "id": "uHn8Adfshz5q"
      }
    },
    {
      "cell_type": "code",
      "source": [
        "def memo(func):\n",
        "  \"\"\"\n",
        "  Декоратор, запоминающий результаты исполнения функции func, чьи аргументы args должны быть хешируемыми\n",
        "  \"\"\"\n",
        "  cache = {}\n",
        "  @wraps(func)\n",
        "  def fmemo(*args):\n",
        "    if args[0] in cache:\n",
        "        return cache[args[0]]\n",
        "    else:\n",
        "        result = func(*args)\n",
        "        cache[args[0]] = result\n",
        "        return result\n",
        "  fmemo.cache = cache\n",
        "  return fmemo\n",
        "\n"
      ],
      "metadata": {
        "id": "R7uu6WtGifNX"
      },
      "execution_count": 57,
      "outputs": []
    },
    {
      "cell_type": "markdown",
      "source": [
        "## Тестирование"
      ],
      "metadata": {
        "id": "Zn5UQCa_izxo"
      }
    },
    {
      "cell_type": "code",
      "source": [
        "@counter\n",
        "@logging\n",
        "@benchmark\n",
        "def word_count(word, url=BOOK_PATH):\n",
        "    \"\"\"\n",
        "    Функция для посчета указанного слова на html-странице\n",
        "    \"\"\"\n",
        "\n",
        "    # отправляем запрос в библиотеку Gutenberg и забираем текст\n",
        "    raw = requests.get(url).text\n",
        "\n",
        "    # заменяем в тексте все небуквенные символы на пробелы\n",
        "    processed_book = re.sub('[\\W]+' , ' ', raw).lower()\n",
        "\n",
        "    # считаем\n",
        "    cnt = len(re.findall(word.lower(), processed_book))\n",
        "\n",
        "    return f\"Cлово {word} встречается {cnt} раз\"\n",
        "\n",
        "print(word_count('the'))"
      ],
      "metadata": {
        "id": "CHCJ64I8i2QB",
        "colab": {
          "base_uri": "https://localhost:8080/"
        },
        "outputId": "a51b1152-87c8-4165-dd80-4be1a75e9543"
      },
      "execution_count": 98,
      "outputs": [
        {
          "output_type": "stream",
          "name": "stdout",
          "text": [
            "Время выполнения функции word_count: 0.496248643000\n",
            "Функция вызвана с параметрами:\n",
            "('the',) {}\n",
            "Функция была вызвана: 1 раз\n",
            "Cлово the встречается 15904 раз\n"
          ]
        }
      ]
    },
    {
      "cell_type": "code",
      "source": [
        "def fib(n):\n",
        "    if n < 2:\n",
        "        return n\n",
        "    return fib(n-2) + fib(n-1)\n"
      ],
      "metadata": {
        "id": "ZE4Rfn-hh3k3"
      },
      "execution_count": 63,
      "outputs": []
    },
    {
      "cell_type": "code",
      "source": [
        "# измеряем время выполнения\n",
        "start_time = time.time()\n",
        "res = fib(30)\n",
        "finish_time = time.time()\n",
        "print(round((finish_time - start_time), 10))"
      ],
      "metadata": {
        "id": "Io94NyjiiXG4",
        "colab": {
          "base_uri": "https://localhost:8080/"
        },
        "outputId": "6347dd91-4da0-45df-aa77-c50127bc6877"
      },
      "execution_count": 93,
      "outputs": [
        {
          "output_type": "stream",
          "name": "stdout",
          "text": [
            "0.0001206398\n"
          ]
        }
      ]
    },
    {
      "cell_type": "code",
      "source": [
        "@memo\n",
        "def fib(n):\n",
        "    if n < 2:\n",
        "        return n\n",
        "    return fib(n-2) + fib(n-1)"
      ],
      "metadata": {
        "id": "W9B3e-t9iTUj"
      },
      "execution_count": 88,
      "outputs": []
    },
    {
      "cell_type": "code",
      "source": [
        "# измеряем время выполнения\n",
        "start_time = time.time()\n",
        "res = fib(30)\n",
        "finish_time = time.time()\n",
        "print(round((finish_time - start_time), 10))\n"
      ],
      "metadata": {
        "id": "Sk6_4KQaidkh",
        "colab": {
          "base_uri": "https://localhost:8080/"
        },
        "outputId": "ac6977ca-c0b5-440c-f549-9cf8cce5945f"
      },
      "execution_count": 94,
      "outputs": [
        {
          "output_type": "stream",
          "name": "stdout",
          "text": [
            "0.0001084805\n"
          ]
        }
      ]
    },
    {
      "cell_type": "code",
      "source": [
        "@functools.lru_cache()\n",
        "@benchmark\n",
        "def fib(n):\n",
        "    if n < 2:\n",
        "        return n\n",
        "    return fib(n-2) + fib(n-1)\n",
        "\n",
        "start_time = time.time()\n",
        "res = fib(30)\n",
        "finish_time = time.time()\n",
        "print(round((finish_time - start_time), 10))"
      ],
      "metadata": {
        "colab": {
          "base_uri": "https://localhost:8080/"
        },
        "id": "akPDh7XWMsB3",
        "outputId": "0bc88d65-68e5-4f55-bd2d-783d1197137f"
      },
      "execution_count": 96,
      "outputs": [
        {
          "output_type": "stream",
          "name": "stdout",
          "text": [
            "Время выполнения функции fib: 0.000000673001\n",
            "Время выполнения функции fib: 0.000001564000\n",
            "Время выполнения функции fib: 0.002089134000\n",
            "Время выполнения функции fib: 0.000001807000\n",
            "Время выполнения функции fib: 0.002822313000\n",
            "Время выполнения функции fib: 0.000001165000\n",
            "Время выполнения функции fib: 0.002864346000\n",
            "Время выполнения функции fib: 0.000000863000\n",
            "Время выполнения функции fib: 0.002896526001\n",
            "Время выполнения функции fib: 0.000000988000\n",
            "Время выполнения функции fib: 0.002927134000\n",
            "Время выполнения функции fib: 0.000000843999\n",
            "Время выполнения функции fib: 0.002959224000\n",
            "Время выполнения функции fib: 0.000001058000\n",
            "Время выполнения функции fib: 0.002992465000\n",
            "Время выполнения функции fib: 0.000000818000\n",
            "Время выполнения функции fib: 0.003023727000\n",
            "Время выполнения функции fib: 0.000000943000\n",
            "Время выполнения функции fib: 0.003058550000\n",
            "Время выполнения функции fib: 0.000000946000\n",
            "Время выполнения функции fib: 0.003090476000\n",
            "Время выполнения функции fib: 0.000000835999\n",
            "Время выполнения функции fib: 0.003137177000\n",
            "Время выполнения функции fib: 0.000001042999\n",
            "Время выполнения функции fib: 0.003170866999\n",
            "Время выполнения функции fib: 0.000000911000\n",
            "Время выполнения функции fib: 0.003204834000\n",
            "Время выполнения функции fib: 0.000000755000\n",
            "Время выполнения функции fib: 0.003236125001\n",
            "Время выполнения функции fib: 0.000000704000\n",
            "Время выполнения функции fib: 0.003267139000\n",
            "0.0034546852\n"
          ]
        }
      ]
    }
  ]
}